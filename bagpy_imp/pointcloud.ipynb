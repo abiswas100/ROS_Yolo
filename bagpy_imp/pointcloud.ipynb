{
 "cells": [
  {
   "cell_type": "code",
   "execution_count": null,
   "id": "37cbf470",
   "metadata": {},
   "outputs": [],
   "source": [
    "import bagpy\n",
    "import numpy\n",
    "import rospy\n",
    "from sensor_msgs.msg import PointCloud2 as pc2\n"
   ]
  },
  {
   "cell_type": "code",
   "execution_count": null,
   "id": "9f0bebf9",
   "metadata": {},
   "outputs": [],
   "source": [
    "print(\"hello\")"
   ]
  },
  {
   "cell_type": "code",
   "execution_count": null,
   "id": "b0a848aa",
   "metadata": {},
   "outputs": [],
   "source": [
    "print(hello)"
   ]
  },
  {
   "cell_type": "code",
   "execution_count": null,
   "id": "2f3d6617",
   "metadata": {},
   "outputs": [],
   "source": []
  }
 ],
 "metadata": {
  "kernelspec": {
   "display_name": "Python 3",
   "language": "python",
   "name": "python3"
  }
 },
 "nbformat": 4,
 "nbformat_minor": 5
}
